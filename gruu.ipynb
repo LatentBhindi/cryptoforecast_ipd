{
 "cells": [
  {
   "cell_type": "code",
   "execution_count": 1,
   "metadata": {},
   "outputs": [
    {
     "name": "stdout",
     "output_type": "stream",
     "text": [
      "WARNING:tensorflow:From C:\\Users\\User\\AppData\\Roaming\\Python\\Python311\\site-packages\\keras\\src\\losses.py:2976: The name tf.losses.sparse_softmax_cross_entropy is deprecated. Please use tf.compat.v1.losses.sparse_softmax_cross_entropy instead.\n",
      "\n"
     ]
    }
   ],
   "source": [
    "import numpy as np\n",
    "import pandas as pd\n",
    "import yfinance as yf\n",
    "from sklearn.preprocessing import MinMaxScaler\n",
    "from sklearn.model_selection import train_test_split\n",
    "from tensorflow.keras.layers import Conv1D, Flatten\n",
    "from tensorflow.keras.models import Sequential\n",
    "from tensorflow.keras.layers import LSTM, Dense\n",
    "from tensorflow.keras.layers import GRU"
   ]
  },
  {
   "cell_type": "code",
   "execution_count": 3,
   "metadata": {},
   "outputs": [
    {
     "name": "stderr",
     "output_type": "stream",
     "text": [
      "[*********************100%%**********************]  1 of 1 completed\n"
     ]
    }
   ],
   "source": [
    "df = yf.download(tickers = 'BTC-USD', start = '2019-04-15',end = str(pd.Timestamp.today()).split(' ')[0])\n",
    "df = df.drop(columns=['Open','High','Low','Close','Volume'])\n",
    "df = df.dropna()"
   ]
  },
  {
   "cell_type": "code",
   "execution_count": 4,
   "metadata": {},
   "outputs": [],
   "source": [
    "scaler = MinMaxScaler()\n",
    "df_scaled = scaler.fit_transform(df)"
   ]
  },
  {
   "cell_type": "code",
   "execution_count": 5,
   "metadata": {},
   "outputs": [],
   "source": [
    "sequence_length = 10\n",
    "X, y = [], []"
   ]
  },
  {
   "cell_type": "code",
   "execution_count": 6,
   "metadata": {},
   "outputs": [],
   "source": [
    "for i in range(len(df_scaled) - sequence_length):\n",
    "    X.append(df_scaled[i:i+sequence_length, 0])\n",
    "    \n",
    "    y.append(df_scaled[i+sequence_length, 0])"
   ]
  },
  {
   "cell_type": "code",
   "execution_count": 7,
   "metadata": {},
   "outputs": [],
   "source": [
    "X, y = np.array(X), np.array(y)\n",
    "X = np.reshape(X, (X.shape[0], X.shape[1]))\n",
    "X_train, X_test, y_train, y_test = train_test_split(X, y, test_size=0.2, random_state=42)"
   ]
  },
  {
   "cell_type": "code",
   "execution_count": 8,
   "metadata": {},
   "outputs": [
    {
     "name": "stdout",
     "output_type": "stream",
     "text": [
      "WARNING:tensorflow:From C:\\Users\\User\\AppData\\Roaming\\Python\\Python311\\site-packages\\keras\\src\\optimizers\\__init__.py:309: The name tf.train.Optimizer is deprecated. Please use tf.compat.v1.train.Optimizer instead.\n",
      "\n"
     ]
    }
   ],
   "source": [
    "model_gru = Sequential()\n",
    "model_gru.add(GRU(units=50, return_sequences=True, input_shape=(X.shape[1], 1)))\n",
    "model_gru.add(GRU(units=50))\n",
    "model_gru.add(Dense(units=1))\n",
    "model_gru.compile(optimizer='adam', loss='mean_squared_error')"
   ]
  },
  {
   "cell_type": "code",
   "execution_count": 9,
   "metadata": {},
   "outputs": [
    {
     "name": "stdout",
     "output_type": "stream",
     "text": [
      "Epoch 1/20\n",
      "WARNING:tensorflow:From C:\\Users\\User\\AppData\\Roaming\\Python\\Python311\\site-packages\\keras\\src\\utils\\tf_utils.py:492: The name tf.ragged.RaggedTensorValue is deprecated. Please use tf.compat.v1.ragged.RaggedTensorValue instead.\n",
      "\n",
      "45/45 [==============================] - 3s 5ms/step - loss: 0.0159\n",
      "Epoch 2/20\n",
      "45/45 [==============================] - 0s 6ms/step - loss: 7.3690e-04\n",
      "Epoch 3/20\n",
      "45/45 [==============================] - 0s 5ms/step - loss: 5.8127e-04\n",
      "Epoch 4/20\n",
      "45/45 [==============================] - 0s 5ms/step - loss: 5.7783e-04\n",
      "Epoch 5/20\n",
      "45/45 [==============================] - 0s 5ms/step - loss: 5.3286e-04\n",
      "Epoch 6/20\n",
      "45/45 [==============================] - 0s 5ms/step - loss: 5.0334e-04\n",
      "Epoch 7/20\n",
      "45/45 [==============================] - 0s 5ms/step - loss: 4.8049e-04\n",
      "Epoch 8/20\n",
      "45/45 [==============================] - 0s 5ms/step - loss: 4.6582e-04\n",
      "Epoch 9/20\n",
      "45/45 [==============================] - 0s 5ms/step - loss: 4.5450e-04\n",
      "Epoch 10/20\n",
      "45/45 [==============================] - 0s 5ms/step - loss: 4.4651e-04\n",
      "Epoch 11/20\n",
      "45/45 [==============================] - 0s 5ms/step - loss: 4.1848e-04\n",
      "Epoch 12/20\n",
      "45/45 [==============================] - 0s 5ms/step - loss: 4.0813e-04\n",
      "Epoch 13/20\n",
      "45/45 [==============================] - 0s 5ms/step - loss: 4.1245e-04\n",
      "Epoch 14/20\n",
      "45/45 [==============================] - 0s 5ms/step - loss: 3.6739e-04\n",
      "Epoch 15/20\n",
      "45/45 [==============================] - 0s 5ms/step - loss: 3.5810e-04\n",
      "Epoch 16/20\n",
      "45/45 [==============================] - 0s 5ms/step - loss: 3.6534e-04\n",
      "Epoch 17/20\n",
      "45/45 [==============================] - 0s 6ms/step - loss: 3.5977e-04\n",
      "Epoch 18/20\n",
      "45/45 [==============================] - 0s 5ms/step - loss: 3.2098e-04\n",
      "Epoch 19/20\n",
      "45/45 [==============================] - 0s 4ms/step - loss: 3.2604e-04\n",
      "Epoch 20/20\n",
      "45/45 [==============================] - 0s 4ms/step - loss: 3.1788e-04\n"
     ]
    },
    {
     "data": {
      "text/plain": [
       "<keras.src.callbacks.History at 0x20086737990>"
      ]
     },
     "execution_count": 9,
     "metadata": {},
     "output_type": "execute_result"
    }
   ],
   "source": [
    "model_gru.fit(X_train, y_train, epochs=20, batch_size=32)\n"
   ]
  },
  {
   "cell_type": "code",
   "execution_count": 10,
   "metadata": {},
   "outputs": [
    {
     "name": "stdout",
     "output_type": "stream",
     "text": [
      "12/12 [==============================] - 1s 2ms/step\n"
     ]
    }
   ],
   "source": [
    "y_pred = model_gru.predict(X_test)"
   ]
  },
  {
   "cell_type": "code",
   "execution_count": 11,
   "metadata": {},
   "outputs": [],
   "source": [
    "from evaluate import evaluate_model"
   ]
  },
  {
   "cell_type": "code",
   "execution_count": 13,
   "metadata": {},
   "outputs": [
    {
     "name": "stdout",
     "output_type": "stream",
     "text": [
      "Mean Squared Error (MSE): 0.0003971887327897944\n",
      "Mean Absolute Error (MAE): 0.01320950093486767\n",
      "R-squared (R2): 0.9925492639402452\n"
     ]
    }
   ],
   "source": [
    "from sklearn.metrics import mean_squared_error, mean_absolute_error, r2_score\n",
    "\n",
    "\n",
    "# Calculate metrics\n",
    "mse_gru = mean_squared_error(y_test, y_pred)\n",
    "mae_gru = mean_absolute_error(y_test, y_pred)\n",
    "r2_gru = r2_score(y_test, y_pred)\n",
    "\n",
    "# Print the metrics\n",
    "print(f'Mean Squared Error (MSE): {mse_gru}')\n",
    "print(f'Mean Absolute Error (MAE): {mae_gru}')\n",
    "print(f'R-squared (R2): {r2_gru}')"
   ]
  },
  {
   "cell_type": "code",
   "execution_count": 14,
   "metadata": {},
   "outputs": [
    {
     "name": "stdout",
     "output_type": "stream",
     "text": [
      "status\n"
     ]
    }
   ],
   "source": [
    "print(\"status\")"
   ]
  },
  {
   "cell_type": "code",
   "execution_count": 15,
   "metadata": {},
   "outputs": [
    {
     "name": "stdout",
     "output_type": "stream",
     "text": [
      "status\n"
     ]
    }
   ],
   "source": [
    "print(\"status\")"
   ]
  },
  {
   "cell_type": "code",
   "execution_count": 16,
   "metadata": {},
   "outputs": [
    {
     "name": "stdout",
     "output_type": "stream",
     "text": [
      "status\n"
     ]
    }
   ],
   "source": [
    "print(\"status\")"
   ]
  },
  {
   "cell_type": "code",
   "execution_count": null,
   "metadata": {},
   "outputs": [],
   "source": []
  }
 ],
 "metadata": {
  "kernelspec": {
   "display_name": "base",
   "language": "python",
   "name": "python3"
  },
  "language_info": {
   "codemirror_mode": {
    "name": "ipython",
    "version": 3
   },
   "file_extension": ".py",
   "mimetype": "text/x-python",
   "name": "python",
   "nbconvert_exporter": "python",
   "pygments_lexer": "ipython3",
   "version": "3.11.5"
  }
 },
 "nbformat": 4,
 "nbformat_minor": 2
}

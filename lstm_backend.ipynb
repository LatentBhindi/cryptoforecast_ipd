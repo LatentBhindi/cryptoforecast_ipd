{
 "cells": [
  {
   "cell_type": "code",
   "execution_count": 37,
   "metadata": {},
   "outputs": [],
   "source": [
    "import numpy as np\n",
    "import pandas as pd\n",
    "import yfinance as yf\n",
    "from sklearn.preprocessing import MinMaxScaler\n",
    "from sklearn.model_selection import train_test_split\n",
    "from tensorflow.keras.models import Sequential\n",
    "from tensorflow.keras.layers import LSTM, Dense\n",
    "from datetime import datetime, timedelta  # Import necessary modules\n"
   ]
  },
  {
   "cell_type": "code",
   "execution_count": 16,
   "metadata": {},
   "outputs": [
    {
     "name": "stderr",
     "output_type": "stream",
     "text": [
      "[*********************100%%**********************]  1 of 1 completed\n"
     ]
    }
   ],
   "source": [
    "df = yf.download(tickers = 'BTC-USD', start = '2019-04-15',end = str(pd.Timestamp.today()).split(' ')[0])\n",
    "df = df.drop(columns=['Open','High','Low','Close','Volume'])\n",
    "df = df.dropna()"
   ]
  },
  {
   "cell_type": "code",
   "execution_count": 17,
   "metadata": {},
   "outputs": [],
   "source": [
    "scaler = MinMaxScaler()\n",
    "df_scaled = scaler.fit_transform(df)"
   ]
  },
  {
   "cell_type": "code",
   "execution_count": 18,
   "metadata": {},
   "outputs": [],
   "source": [
    "sequence_length = 10\n",
    "X, y = [], []"
   ]
  },
  {
   "cell_type": "code",
   "execution_count": 19,
   "metadata": {},
   "outputs": [],
   "source": [
    "for i in range(len(df_scaled) - sequence_length):\n",
    "    X.append(df_scaled[i:i+sequence_length, 0])\n",
    "    y.append(df_scaled[i+sequence_length, 0])"
   ]
  },
  {
   "cell_type": "code",
   "execution_count": 20,
   "metadata": {},
   "outputs": [],
   "source": [
    "X, y = np.array(X), np.array(y)"
   ]
  },
  {
   "cell_type": "code",
   "execution_count": 21,
   "metadata": {},
   "outputs": [],
   "source": [
    "X = np.reshape(X, (X.shape[0], X.shape[1], 1))\n"
   ]
  },
  {
   "cell_type": "code",
   "execution_count": 23,
   "metadata": {},
   "outputs": [
    {
     "name": "stdout",
     "output_type": "stream",
     "text": [
      "WARNING:tensorflow:From C:\\Users\\User\\AppData\\Roaming\\Python\\Python311\\site-packages\\keras\\src\\backend.py:873: The name tf.get_default_graph is deprecated. Please use tf.compat.v1.get_default_graph instead.\n",
      "\n",
      "WARNING:tensorflow:From C:\\Users\\User\\AppData\\Roaming\\Python\\Python311\\site-packages\\keras\\src\\optimizers\\__init__.py:309: The name tf.train.Optimizer is deprecated. Please use tf.compat.v1.train.Optimizer instead.\n",
      "\n"
     ]
    }
   ],
   "source": [
    "model = Sequential()\n",
    "model.add(LSTM(units=50, return_sequences=True, input_shape=(X.shape[1], 1)))\n",
    "model.add(LSTM(units=50))\n",
    "model.add(Dense(units=1))\n",
    "model.compile(optimizer='adam', loss='mean_squared_error')"
   ]
  },
  {
   "cell_type": "code",
   "execution_count": 31,
   "metadata": {},
   "outputs": [
    {
     "name": "stdout",
     "output_type": "stream",
     "text": [
      "Epoch 1/20\n"
     ]
    },
    {
     "name": "stdout",
     "output_type": "stream",
     "text": [
      "56/56 [==============================] - 0s 5ms/step - loss: 6.1682e-04\n",
      "Epoch 2/20\n",
      "56/56 [==============================] - 0s 4ms/step - loss: 6.3523e-04\n",
      "Epoch 3/20\n",
      "56/56 [==============================] - 0s 4ms/step - loss: 6.1871e-04\n",
      "Epoch 4/20\n",
      "56/56 [==============================] - 0s 4ms/step - loss: 7.1116e-04\n",
      "Epoch 5/20\n",
      "56/56 [==============================] - 0s 4ms/step - loss: 7.0539e-04\n",
      "Epoch 6/20\n",
      "56/56 [==============================] - 0s 4ms/step - loss: 6.3372e-04\n",
      "Epoch 7/20\n",
      "56/56 [==============================] - 0s 4ms/step - loss: 6.4382e-04\n",
      "Epoch 8/20\n",
      "56/56 [==============================] - 0s 5ms/step - loss: 5.8075e-04\n",
      "Epoch 9/20\n",
      "56/56 [==============================] - 0s 4ms/step - loss: 5.9550e-04\n",
      "Epoch 10/20\n",
      "56/56 [==============================] - 0s 4ms/step - loss: 5.3438e-04\n",
      "Epoch 11/20\n",
      "56/56 [==============================] - 0s 4ms/step - loss: 5.0340e-04\n",
      "Epoch 12/20\n",
      "56/56 [==============================] - 0s 4ms/step - loss: 5.0242e-04\n",
      "Epoch 13/20\n",
      "56/56 [==============================] - 0s 4ms/step - loss: 4.9777e-04\n",
      "Epoch 14/20\n",
      "56/56 [==============================] - 0s 4ms/step - loss: 4.7353e-04\n",
      "Epoch 15/20\n",
      "56/56 [==============================] - 0s 4ms/step - loss: 4.8607e-04\n",
      "Epoch 16/20\n",
      "56/56 [==============================] - 0s 4ms/step - loss: 4.5385e-04\n",
      "Epoch 17/20\n",
      "56/56 [==============================] - 0s 4ms/step - loss: 4.5804e-04\n",
      "Epoch 18/20\n",
      "56/56 [==============================] - 0s 5ms/step - loss: 4.5064e-04\n",
      "Epoch 19/20\n",
      "56/56 [==============================] - 0s 4ms/step - loss: 4.6385e-04\n",
      "Epoch 20/20\n",
      "56/56 [==============================] - 0s 4ms/step - loss: 4.9206e-04\n"
     ]
    },
    {
     "data": {
      "text/plain": [
       "<keras.src.callbacks.History at 0x2934ad3f0d0>"
      ]
     },
     "execution_count": 31,
     "metadata": {},
     "output_type": "execute_result"
    }
   ],
   "source": [
    "model.fit(X, y, epochs=20, batch_size=32)"
   ]
  },
  {
   "cell_type": "code",
   "execution_count": 33,
   "metadata": {},
   "outputs": [],
   "source": [
    "last_sequence = df_scaled[-sequence_length:].reshape((1, sequence_length, 1))\n",
    "future_predictions = []"
   ]
  },
  {
   "cell_type": "code",
   "execution_count": 34,
   "metadata": {},
   "outputs": [
    {
     "name": "stdout",
     "output_type": "stream",
     "text": [
      "1/1 [==============================] - 0s 18ms/step\n",
      "1/1 [==============================] - 0s 25ms/step\n",
      "1/1 [==============================] - 0s 18ms/step\n",
      "1/1 [==============================] - 0s 20ms/step\n",
      "1/1 [==============================] - 0s 16ms/step\n",
      "1/1 [==============================] - 0s 16ms/step\n",
      "1/1 [==============================] - 0s 14ms/step\n"
     ]
    }
   ],
   "source": [
    "for i in range(7):\n",
    "    next_day_prediction = model.predict(last_sequence)\n",
    "    future_predictions.append(next_day_prediction[0, 0])\n",
    "    last_sequence = np.roll(last_sequence, -1, axis=1)\n",
    "    last_sequence[0, -1, 0] = next_day_prediction[0, 0]"
   ]
  },
  {
   "cell_type": "code",
   "execution_count": 35,
   "metadata": {},
   "outputs": [],
   "source": [
    "future_predictions = scaler.inverse_transform(np.array(future_predictions).reshape(-1, 1))\n"
   ]
  },
  {
   "cell_type": "code",
   "execution_count": 38,
   "metadata": {},
   "outputs": [],
   "source": [
    "tomorrow_date = datetime.now() + timedelta(days=1)"
   ]
  },
  {
   "cell_type": "code",
   "execution_count": 39,
   "metadata": {},
   "outputs": [
    {
     "name": "stdout",
     "output_type": "stream",
     "text": [
      "Predicted Prices for the Next 7 Days:\n",
      "2024-03-12: 68126.296875\n",
      "2024-03-13: 67789.8203125\n",
      "2024-03-14: 67196.65625\n",
      "2024-03-15: 66495.9375\n",
      "2024-03-16: 65705.7109375\n",
      "2024-03-17: 64938.765625\n",
      "2024-03-18: 64164.69140625\n"
     ]
    }
   ],
   "source": [
    "print(\"Predicted Prices for the Next 7 Days:\")\n",
    "for i in range(7):\n",
    "    print(f\"{tomorrow_date.strftime('%Y-%m-%d')}: {future_predictions[i][0]}\")\n",
    "    tomorrow_date += timedelta(days=1)"
   ]
  },
  {
   "cell_type": "markdown",
   "metadata": {},
   "source": []
  },
  {
   "cell_type": "code",
   "execution_count": 40,
   "metadata": {},
   "outputs": [],
   "source": [
    "#dfada"
   ]
  },
  {
   "cell_type": "code",
   "execution_count": null,
   "metadata": {},
   "outputs": [],
   "source": []
  }
 ],
 "metadata": {
  "kernelspec": {
   "display_name": "base",
   "language": "python",
   "name": "python3"
  },
  "language_info": {
   "codemirror_mode": {
    "name": "ipython",
    "version": 3
   },
   "file_extension": ".py",
   "mimetype": "text/x-python",
   "name": "python",
   "nbconvert_exporter": "python",
   "pygments_lexer": "ipython3",
   "version": "3.11.5"
  }
 },
 "nbformat": 4,
 "nbformat_minor": 2
}

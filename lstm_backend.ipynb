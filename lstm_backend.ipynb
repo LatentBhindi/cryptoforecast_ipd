{
 "cells": [
  {
   "cell_type": "code",
   "execution_count": 1,
   "metadata": {},
   "outputs": [
    {
     "name": "stdout",
     "output_type": "stream",
     "text": [
      "WARNING:tensorflow:From C:\\Users\\User\\AppData\\Roaming\\Python\\Python311\\site-packages\\keras\\src\\losses.py:2976: The name tf.losses.sparse_softmax_cross_entropy is deprecated. Please use tf.compat.v1.losses.sparse_softmax_cross_entropy instead.\n",
      "\n"
     ]
    }
   ],
   "source": [
    "import numpy as np\n",
    "import pandas as pd\n",
    "import yfinance as yf\n",
    "from sklearn.preprocessing import MinMaxScaler\n",
    "from sklearn.model_selection import train_test_split\n",
    "from tensorflow.keras.models import Sequential\n",
    "from tensorflow.keras.layers import LSTM, Dense\n",
    "from datetime import datetime, timedelta  # Import necessary modules\n"
   ]
  },
  {
   "cell_type": "code",
   "execution_count": 2,
   "metadata": {},
   "outputs": [
    {
     "name": "stderr",
     "output_type": "stream",
     "text": [
      "[*********************100%%**********************]  1 of 1 completed\n"
     ]
    }
   ],
   "source": [
    "df = yf.download(tickers = 'BTC-USD', start = '2019-04-15',end = str(pd.Timestamp.today()).split(' ')[0])\n",
    "df = df.drop(columns=['Open','High','Low','Close','Volume'])\n",
    "df = df.dropna()"
   ]
  },
  {
   "cell_type": "code",
   "execution_count": 3,
   "metadata": {},
   "outputs": [],
   "source": [
    "scaler = MinMaxScaler()\n",
    "df_scaled = scaler.fit_transform(df)"
   ]
  },
  {
   "cell_type": "code",
   "execution_count": 4,
   "metadata": {},
   "outputs": [],
   "source": [
    "sequence_length = 10\n",
    "X, y = [], []"
   ]
  },
  {
   "cell_type": "code",
   "execution_count": 5,
   "metadata": {},
   "outputs": [],
   "source": [
    "for i in range(len(df_scaled) - sequence_length):\n",
    "    X.append(df_scaled[i:i+sequence_length, 0])\n",
    "    y.append(df_scaled[i+sequence_length, 0])"
   ]
  },
  {
   "cell_type": "code",
   "execution_count": 6,
   "metadata": {},
   "outputs": [],
   "source": [
    "X, y = np.array(X), np.array(y)"
   ]
  },
  {
   "cell_type": "code",
   "execution_count": 7,
   "metadata": {},
   "outputs": [],
   "source": [
    "X = np.reshape(X, (X.shape[0], X.shape[1], 1))\n"
   ]
  },
  {
   "cell_type": "code",
   "execution_count": 8,
   "metadata": {},
   "outputs": [
    {
     "name": "stdout",
     "output_type": "stream",
     "text": [
      "WARNING:tensorflow:From C:\\Users\\User\\AppData\\Roaming\\Python\\Python311\\site-packages\\keras\\src\\backend.py:873: The name tf.get_default_graph is deprecated. Please use tf.compat.v1.get_default_graph instead.\n",
      "\n",
      "WARNING:tensorflow:From C:\\Users\\User\\AppData\\Roaming\\Python\\Python311\\site-packages\\keras\\src\\optimizers\\__init__.py:309: The name tf.train.Optimizer is deprecated. Please use tf.compat.v1.train.Optimizer instead.\n",
      "\n"
     ]
    }
   ],
   "source": [
    "model = Sequential()\n",
    "model.add(LSTM(units=50, return_sequences=True, input_shape=(X.shape[1], 1)))\n",
    "model.add(LSTM(units=50))\n",
    "model.add(Dense(units=1))\n",
    "model.compile(optimizer='adam', loss='mean_squared_error')"
   ]
  },
  {
   "cell_type": "code",
   "execution_count": 9,
   "metadata": {},
   "outputs": [
    {
     "name": "stdout",
     "output_type": "stream",
     "text": [
      "Epoch 1/20\n",
      "WARNING:tensorflow:From C:\\Users\\User\\AppData\\Roaming\\Python\\Python311\\site-packages\\keras\\src\\utils\\tf_utils.py:492: The name tf.ragged.RaggedTensorValue is deprecated. Please use tf.compat.v1.ragged.RaggedTensorValue instead.\n",
      "\n",
      "56/56 [==============================] - 3s 4ms/step - loss: 0.0191\n",
      "Epoch 2/20\n",
      "56/56 [==============================] - 0s 4ms/step - loss: 0.0013\n",
      "Epoch 3/20\n",
      "56/56 [==============================] - 0s 4ms/step - loss: 0.0013\n",
      "Epoch 4/20\n",
      "56/56 [==============================] - 0s 5ms/step - loss: 0.0013\n",
      "Epoch 5/20\n",
      "56/56 [==============================] - 0s 4ms/step - loss: 0.0013\n",
      "Epoch 6/20\n",
      "56/56 [==============================] - 0s 5ms/step - loss: 0.0013\n",
      "Epoch 7/20\n",
      "56/56 [==============================] - 0s 4ms/step - loss: 0.0012\n",
      "Epoch 8/20\n",
      "56/56 [==============================] - 0s 4ms/step - loss: 0.0012\n",
      "Epoch 9/20\n",
      "56/56 [==============================] - 0s 4ms/step - loss: 0.0011\n",
      "Epoch 10/20\n",
      "56/56 [==============================] - 0s 4ms/step - loss: 0.0010\n",
      "Epoch 11/20\n",
      "56/56 [==============================] - 0s 5ms/step - loss: 0.0010\n",
      "Epoch 12/20\n",
      "56/56 [==============================] - 0s 5ms/step - loss: 0.0010\n",
      "Epoch 13/20\n",
      "56/56 [==============================] - 0s 4ms/step - loss: 8.9670e-04\n",
      "Epoch 14/20\n",
      "56/56 [==============================] - 0s 4ms/step - loss: 8.2647e-04\n",
      "Epoch 15/20\n",
      "56/56 [==============================] - 0s 5ms/step - loss: 8.9168e-04\n",
      "Epoch 16/20\n",
      "56/56 [==============================] - 0s 4ms/step - loss: 8.6175e-04\n",
      "Epoch 17/20\n",
      "56/56 [==============================] - 0s 4ms/step - loss: 7.4291e-04\n",
      "Epoch 18/20\n",
      "56/56 [==============================] - 0s 4ms/step - loss: 7.3874e-04\n",
      "Epoch 19/20\n",
      "56/56 [==============================] - 0s 4ms/step - loss: 6.5157e-04\n",
      "Epoch 20/20\n",
      "56/56 [==============================] - 0s 4ms/step - loss: 6.2100e-04\n"
     ]
    },
    {
     "data": {
      "text/plain": [
       "<keras.src.callbacks.History at 0x2262074cfd0>"
      ]
     },
     "execution_count": 9,
     "metadata": {},
     "output_type": "execute_result"
    }
   ],
   "source": [
    "model.fit(X, y, epochs=20, batch_size=32)"
   ]
  },
  {
   "cell_type": "code",
   "execution_count": 10,
   "metadata": {},
   "outputs": [],
   "source": [
    "last_sequence = df_scaled[-sequence_length:].reshape((1, sequence_length, 1))\n",
    "future_predictions = []"
   ]
  },
  {
   "cell_type": "code",
   "execution_count": 11,
   "metadata": {},
   "outputs": [
    {
     "name": "stdout",
     "output_type": "stream",
     "text": [
      "1/1 [==============================] - 1s 577ms/step\n",
      "1/1 [==============================] - 0s 15ms/step\n",
      "1/1 [==============================] - 0s 15ms/step\n",
      "1/1 [==============================] - 0s 16ms/step\n",
      "1/1 [==============================] - 0s 17ms/step\n",
      "1/1 [==============================] - 0s 15ms/step\n",
      "1/1 [==============================] - 0s 15ms/step\n"
     ]
    }
   ],
   "source": [
    "for i in range(7):\n",
    "    next_day_prediction = model.predict(last_sequence)\n",
    "    future_predictions.append(next_day_prediction[0, 0])\n",
    "    last_sequence = np.roll(last_sequence, -1, axis=1)\n",
    "    last_sequence[0, -1, 0] = next_day_prediction[0, 0]"
   ]
  },
  {
   "cell_type": "code",
   "execution_count": 12,
   "metadata": {},
   "outputs": [],
   "source": [
    "future_predictions = scaler.inverse_transform(np.array(future_predictions).reshape(-1, 1))\n"
   ]
  },
  {
   "cell_type": "code",
   "execution_count": 13,
   "metadata": {},
   "outputs": [],
   "source": [
    "tomorrow_date = datetime.now() + timedelta(days=1)"
   ]
  },
  {
   "cell_type": "code",
   "execution_count": 14,
   "metadata": {},
   "outputs": [
    {
     "name": "stdout",
     "output_type": "stream",
     "text": [
      "Predicted Prices for the Next 7 Days:\n",
      "2024-03-13: 68279.78125\n",
      "2024-03-14: 68332.6328125\n",
      "2024-03-15: 67893.125\n",
      "2024-03-16: 67391.0078125\n",
      "2024-03-17: 66316.15625\n",
      "2024-03-18: 65221.23046875\n",
      "2024-03-19: 64052.51171875\n"
     ]
    }
   ],
   "source": [
    "print(\"Predicted Prices for the Next 7 Days:\")\n",
    "for i in range(7):\n",
    "    print(f\"{tomorrow_date.strftime('%Y-%m-%d')}: {future_predictions[i][0]}\")\n",
    "    tomorrow_date += timedelta(days=1)"
   ]
  },
  {
   "cell_type": "markdown",
   "metadata": {},
   "source": []
  },
  {
   "cell_type": "code",
   "execution_count": null,
   "metadata": {},
   "outputs": [],
   "source": []
  }
 ],
 "metadata": {
  "kernelspec": {
   "display_name": "base",
   "language": "python",
   "name": "python3"
  },
  "language_info": {
   "codemirror_mode": {
    "name": "ipython",
    "version": 3
   },
   "file_extension": ".py",
   "mimetype": "text/x-python",
   "name": "python",
   "nbconvert_exporter": "python",
   "pygments_lexer": "ipython3",
   "version": "3.11.5"
  }
 },
 "nbformat": 4,
 "nbformat_minor": 2
}

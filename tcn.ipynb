{
 "cells": [
  {
   "cell_type": "code",
   "execution_count": 2,
   "metadata": {},
   "outputs": [],
   "source": [
    "import numpy as np\n",
    "import pandas as pd\n",
    "import yfinance as yf\n",
    "from sklearn.preprocessing import MinMaxScaler\n",
    "from sklearn.model_selection import train_test_split\n",
    "from tensorflow.keras.layers import Conv1D, Flatten\n",
    "from tensorflow.keras.models import Sequential\n",
    "from tensorflow.keras.layers import LSTM, Dense\n",
    "from tcn import TCN"
   ]
  },
  {
   "cell_type": "code",
   "execution_count": 3,
   "metadata": {},
   "outputs": [
    {
     "name": "stderr",
     "output_type": "stream",
     "text": [
      "[*********************100%%**********************]  1 of 1 completed\n"
     ]
    }
   ],
   "source": [
    "df = yf.download(tickers = 'BTC-USD', start = '2019-04-15',end = str(pd.Timestamp.today()).split(' ')[0])\n",
    "df = df.drop(columns=['Open','High','Low','Close','Volume'])\n",
    "df = df.dropna()"
   ]
  },
  {
   "cell_type": "code",
   "execution_count": 6,
   "metadata": {},
   "outputs": [],
   "source": [
    "scaler = MinMaxScaler()\n",
    "df_scaled = scaler.fit_transform(df)"
   ]
  },
  {
   "cell_type": "code",
   "execution_count": 4,
   "metadata": {},
   "outputs": [],
   "source": [
    "sequence_length = 10\n",
    "X, y = [], []"
   ]
  },
  {
   "cell_type": "code",
   "execution_count": 7,
   "metadata": {},
   "outputs": [],
   "source": [
    "for i in range(len(df_scaled) - sequence_length):\n",
    "    X.append(df_scaled[i:i+sequence_length, 0])\n",
    "    y.append(df_scaled[i+sequence_length, 0])"
   ]
  },
  {
   "cell_type": "code",
   "execution_count": 8,
   "metadata": {},
   "outputs": [],
   "source": [
    "X, y = np.array(X), np.array(y)\n",
    "X = np.reshape(X, (X.shape[0], X.shape[1]))\n",
    "X_train, X_test, y_train, y_test = train_test_split(X, y, test_size=0.2, random_state=42)"
   ]
  },
  {
   "cell_type": "code",
   "execution_count": 9,
   "metadata": {},
   "outputs": [
    {
     "name": "stdout",
     "output_type": "stream",
     "text": [
      "WARNING:tensorflow:From C:\\Users\\User\\AppData\\Roaming\\Python\\Python311\\site-packages\\keras\\src\\backend.py:873: The name tf.get_default_graph is deprecated. Please use tf.compat.v1.get_default_graph instead.\n",
      "\n",
      "WARNING:tensorflow:From C:\\Users\\User\\AppData\\Roaming\\Python\\Python311\\site-packages\\keras\\src\\optimizers\\__init__.py:309: The name tf.train.Optimizer is deprecated. Please use tf.compat.v1.train.Optimizer instead.\n",
      "\n"
     ]
    }
   ],
   "source": [
    "model_tcn = Sequential()\n",
    "model_tcn.add(TCN(input_shape=(X.shape[1], 1), return_sequences=True))\n",
    "model_tcn.add(TCN(return_sequences=False))\n",
    "model_tcn.add(Dense(units=1))\n",
    "model_tcn.compile(optimizer='adam', loss='mean_squared_error')"
   ]
  },
  {
   "cell_type": "code",
   "execution_count": 10,
   "metadata": {},
   "outputs": [
    {
     "name": "stdout",
     "output_type": "stream",
     "text": [
      "Epoch 1/20\n",
      "WARNING:tensorflow:From C:\\Users\\User\\AppData\\Roaming\\Python\\Python311\\site-packages\\keras\\src\\utils\\tf_utils.py:492: The name tf.ragged.RaggedTensorValue is deprecated. Please use tf.compat.v1.ragged.RaggedTensorValue instead.\n",
      "\n",
      "45/45 [==============================] - 5s 23ms/step - loss: 27.8536\n",
      "Epoch 2/20\n",
      "45/45 [==============================] - 1s 26ms/step - loss: 0.0068\n",
      "Epoch 3/20\n",
      "45/45 [==============================] - 1s 25ms/step - loss: 0.0021\n",
      "Epoch 4/20\n",
      "45/45 [==============================] - 1s 24ms/step - loss: 0.0018\n",
      "Epoch 5/20\n",
      "45/45 [==============================] - 1s 23ms/step - loss: 0.0014\n",
      "Epoch 6/20\n",
      "45/45 [==============================] - 1s 22ms/step - loss: 0.0016\n",
      "Epoch 7/20\n",
      "45/45 [==============================] - 1s 22ms/step - loss: 0.0010\n",
      "Epoch 8/20\n",
      "45/45 [==============================] - 1s 23ms/step - loss: 0.0014\n",
      "Epoch 9/20\n",
      "45/45 [==============================] - 1s 22ms/step - loss: 0.0023\n",
      "Epoch 10/20\n",
      "45/45 [==============================] - 1s 23ms/step - loss: 9.2677e-04\n",
      "Epoch 11/20\n",
      "45/45 [==============================] - 1s 21ms/step - loss: 6.6224e-04\n",
      "Epoch 12/20\n",
      "45/45 [==============================] - 1s 24ms/step - loss: 5.9018e-04\n",
      "Epoch 13/20\n",
      "45/45 [==============================] - 1s 23ms/step - loss: 5.9162e-04\n",
      "Epoch 14/20\n",
      "45/45 [==============================] - 1s 22ms/step - loss: 5.4713e-04\n",
      "Epoch 15/20\n",
      "45/45 [==============================] - 1s 22ms/step - loss: 5.1891e-04\n",
      "Epoch 16/20\n",
      "45/45 [==============================] - 1s 22ms/step - loss: 7.7713e-04\n",
      "Epoch 17/20\n",
      "45/45 [==============================] - 1s 24ms/step - loss: 6.2463e-04\n",
      "Epoch 18/20\n",
      "45/45 [==============================] - 1s 23ms/step - loss: 5.0352e-04\n",
      "Epoch 19/20\n",
      "45/45 [==============================] - 1s 22ms/step - loss: 5.3346e-04\n",
      "Epoch 20/20\n",
      "45/45 [==============================] - 1s 22ms/step - loss: 4.1803e-04\n"
     ]
    },
    {
     "data": {
      "text/plain": [
       "<keras.src.callbacks.History at 0x2ef9016c850>"
      ]
     },
     "execution_count": 10,
     "metadata": {},
     "output_type": "execute_result"
    }
   ],
   "source": [
    "model_tcn.fit(X_train, y_train, epochs=20, batch_size=32)"
   ]
  },
  {
   "cell_type": "code",
   "execution_count": 11,
   "metadata": {},
   "outputs": [
    {
     "name": "stdout",
     "output_type": "stream",
     "text": [
      "12/12 [==============================] - 1s 8ms/step\n"
     ]
    }
   ],
   "source": [
    "y_pred = model_tcn.predict(X_test)"
   ]
  },
  {
   "cell_type": "code",
   "execution_count": 12,
   "metadata": {},
   "outputs": [
    {
     "name": "stdout",
     "output_type": "stream",
     "text": [
      "Mean Squared Error (MSE): 0.0003796846175355083\n",
      "Mean Absolute Error (MAE): 0.012014057210244946\n",
      "R-squared (R2): 0.9928978110136238\n"
     ]
    }
   ],
   "source": [
    "from sklearn.metrics import mean_squared_error, mean_absolute_error, r2_score\n",
    "\n",
    "\n",
    "# Calculate metrics\n",
    "mse_tcn = mean_squared_error(y_test, y_pred)\n",
    "mae_tcn = mean_absolute_error(y_test, y_pred)\n",
    "r2_tcn = r2_score(y_test, y_pred)\n",
    "\n",
    "# Print the metrics\n",
    "print(f'Mean Squared Error (MSE): {mse_tcn}')\n",
    "print(f'Mean Absolute Error (MAE): {mae_tcn}')\n",
    "print(f'R-squared (R2): {r2_tcn}')"
   ]
  },
  {
   "cell_type": "code",
   "execution_count": 13,
   "metadata": {},
   "outputs": [
    {
     "name": "stdout",
     "output_type": "stream",
     "text": [
      "status\n"
     ]
    }
   ],
   "source": [
    "print(\"status\")"
   ]
  },
  {
   "cell_type": "code",
   "execution_count": null,
   "metadata": {},
   "outputs": [],
   "source": []
  }
 ],
 "metadata": {
  "kernelspec": {
   "display_name": "base",
   "language": "python",
   "name": "python3"
  },
  "language_info": {
   "codemirror_mode": {
    "name": "ipython",
    "version": 3
   },
   "file_extension": ".py",
   "mimetype": "text/x-python",
   "name": "python",
   "nbconvert_exporter": "python",
   "pygments_lexer": "ipython3",
   "version": "3.11.5"
  }
 },
 "nbformat": 4,
 "nbformat_minor": 2
}
